{
  "nbformat": 4,
  "nbformat_minor": 0,
  "metadata": {
    "colab": {
      "name": "KaggleTaskAnalitics.ipynb",
      "provenance": [],
      "mount_file_id": "1N6MCgSrK0khBqWmsdnK9Yx4T86AVC5-N",
      "authorship_tag": "ABX9TyMZqwE/sjYZFQuhQk0BxR6c",
      "include_colab_link": true
    },
    "kernelspec": {
      "name": "python3",
      "display_name": "Python 3"
    },
    "language_info": {
      "name": "python"
    },
    "accelerator": "GPU"
  },
  "cells": [
    {
      "cell_type": "markdown",
      "metadata": {
        "id": "view-in-github",
        "colab_type": "text"
      },
      "source": [
        "<a href=\"https://colab.research.google.com/github/Kotya2001/HotelID/blob/feature%2Fgraphs/KaggleTaskAnalitics.ipynb\" target=\"_parent\"><img src=\"https://colab.research.google.com/assets/colab-badge.svg\" alt=\"Open In Colab\"/></a>"
      ]
    },
    {
      "cell_type": "code",
      "metadata": {
        "id": "UbOjOIX_mIIM"
      },
      "source": [
        "import pandas as pd\n",
        "import numpy as np\n",
        "import matplotlib\n",
        "import matplotlib.pyplot as plt\n",
        "import seaborn as sns\n",
        "import plotly\n",
        "import plotly.express as px\n",
        "import plotly.graph_objects as go\n",
        "from plotly.subplots import make_subplots"
      ],
      "execution_count": null,
      "outputs": []
    },
    {
      "cell_type": "code",
      "metadata": {
        "id": "dSbQar0qujXn"
      },
      "source": [
        "df = pd.read_csv('/content/drive/MyDrive/Data/train.csv')"
      ],
      "execution_count": null,
      "outputs": []
    },
    {
      "cell_type": "code",
      "metadata": {
        "id": "mLWJ-epLujfK",
        "colab": {
          "base_uri": "https://localhost:8080/",
          "height": 419
        },
        "outputId": "d9b5cf5d-2315-4187-80b3-165e7d84d483"
      },
      "source": [
        "df"
      ],
      "execution_count": null,
      "outputs": [
        {
          "output_type": "execute_result",
          "data": {
            "text/html": [
              "<div>\n",
              "<style scoped>\n",
              "    .dataframe tbody tr th:only-of-type {\n",
              "        vertical-align: middle;\n",
              "    }\n",
              "\n",
              "    .dataframe tbody tr th {\n",
              "        vertical-align: top;\n",
              "    }\n",
              "\n",
              "    .dataframe thead th {\n",
              "        text-align: right;\n",
              "    }\n",
              "</style>\n",
              "<table border=\"1\" class=\"dataframe\">\n",
              "  <thead>\n",
              "    <tr style=\"text-align: right;\">\n",
              "      <th></th>\n",
              "      <th>image</th>\n",
              "      <th>chain</th>\n",
              "      <th>hotel_id</th>\n",
              "      <th>timestamp</th>\n",
              "    </tr>\n",
              "  </thead>\n",
              "  <tbody>\n",
              "    <tr>\n",
              "      <th>0</th>\n",
              "      <td>8000d59f6a3d765f.jpg</td>\n",
              "      <td>85</td>\n",
              "      <td>24607</td>\n",
              "      <td>2018-11-28 05:42:31</td>\n",
              "    </tr>\n",
              "    <tr>\n",
              "      <th>1</th>\n",
              "      <td>8000febe81817f7f.jpg</td>\n",
              "      <td>6</td>\n",
              "      <td>25389</td>\n",
              "      <td>2017-01-01 07:01:46</td>\n",
              "    </tr>\n",
              "    <tr>\n",
              "      <th>2</th>\n",
              "      <td>80053befc2d42fba.jpg</td>\n",
              "      <td>3</td>\n",
              "      <td>672</td>\n",
              "      <td>2018-01-26 13:22:07</td>\n",
              "    </tr>\n",
              "    <tr>\n",
              "      <th>3</th>\n",
              "      <td>8007fa0a8fe89f9d.jpg</td>\n",
              "      <td>5</td>\n",
              "      <td>63866</td>\n",
              "      <td>2020-07-03 02:31:31</td>\n",
              "    </tr>\n",
              "    <tr>\n",
              "      <th>4</th>\n",
              "      <td>800a4a6b6f6d2df6.jpg</td>\n",
              "      <td>0</td>\n",
              "      <td>12036</td>\n",
              "      <td>2017-09-22 17:59:22</td>\n",
              "    </tr>\n",
              "    <tr>\n",
              "      <th>...</th>\n",
              "      <td>...</td>\n",
              "      <td>...</td>\n",
              "      <td>...</td>\n",
              "      <td>...</td>\n",
              "    </tr>\n",
              "    <tr>\n",
              "      <th>97551</th>\n",
              "      <td>ffff8082ec219892.jpg</td>\n",
              "      <td>83</td>\n",
              "      <td>20544</td>\n",
              "      <td>2016-12-18 03:04:54</td>\n",
              "    </tr>\n",
              "    <tr>\n",
              "      <th>97552</th>\n",
              "      <td>ffff8200e50cc0f1.jpg</td>\n",
              "      <td>82</td>\n",
              "      <td>51053</td>\n",
              "      <td>2018-01-23 03:51:42</td>\n",
              "    </tr>\n",
              "    <tr>\n",
              "      <th>97553</th>\n",
              "      <td>ffff84129981a4a4.jpg</td>\n",
              "      <td>83</td>\n",
              "      <td>42842</td>\n",
              "      <td>2017-03-30 22:45:24</td>\n",
              "    </tr>\n",
              "    <tr>\n",
              "      <th>97554</th>\n",
              "      <td>ffff85015040c2af.jpg</td>\n",
              "      <td>82</td>\n",
              "      <td>6261</td>\n",
              "      <td>2016-11-09 12:34:06</td>\n",
              "    </tr>\n",
              "    <tr>\n",
              "      <th>97555</th>\n",
              "      <td>ffffc0c05f2820c1.jpg</td>\n",
              "      <td>79</td>\n",
              "      <td>58764</td>\n",
              "      <td>2017-06-14 21:55:37</td>\n",
              "    </tr>\n",
              "  </tbody>\n",
              "</table>\n",
              "<p>97556 rows × 4 columns</p>\n",
              "</div>"
            ],
            "text/plain": [
              "                      image  chain  hotel_id            timestamp\n",
              "0      8000d59f6a3d765f.jpg     85     24607  2018-11-28 05:42:31\n",
              "1      8000febe81817f7f.jpg      6     25389  2017-01-01 07:01:46\n",
              "2      80053befc2d42fba.jpg      3       672  2018-01-26 13:22:07\n",
              "3      8007fa0a8fe89f9d.jpg      5     63866  2020-07-03 02:31:31\n",
              "4      800a4a6b6f6d2df6.jpg      0     12036  2017-09-22 17:59:22\n",
              "...                     ...    ...       ...                  ...\n",
              "97551  ffff8082ec219892.jpg     83     20544  2016-12-18 03:04:54\n",
              "97552  ffff8200e50cc0f1.jpg     82     51053  2018-01-23 03:51:42\n",
              "97553  ffff84129981a4a4.jpg     83     42842  2017-03-30 22:45:24\n",
              "97554  ffff85015040c2af.jpg     82      6261  2016-11-09 12:34:06\n",
              "97555  ffffc0c05f2820c1.jpg     79     58764  2017-06-14 21:55:37\n",
              "\n",
              "[97556 rows x 4 columns]"
            ]
          },
          "metadata": {
            "tags": []
          },
          "execution_count": 4
        }
      ]
    },
    {
      "cell_type": "code",
      "metadata": {
        "id": "jhkyI_F2ujhv",
        "colab": {
          "base_uri": "https://localhost:8080/"
        },
        "outputId": "efb476a5-5c9b-440a-d584-419d414b70bf"
      },
      "source": [
        "print(f'Number of records {len(df)}')\n",
        "print(f'Number of hotels {df.hotel_id.nunique()}')\n",
        "print(f'Number of chains {df.chain.nunique()}')\n",
        "print(f'Number of images {df.image.nunique()}')"
      ],
      "execution_count": null,
      "outputs": [
        {
          "output_type": "stream",
          "text": [
            "Number of records 97556\n",
            "Number of hotels 7770\n",
            "Number of chains 88\n",
            "Number of images 97554\n"
          ],
          "name": "stdout"
        }
      ]
    }
  ]
}